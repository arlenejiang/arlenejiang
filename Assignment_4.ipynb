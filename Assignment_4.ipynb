{
 "cells": [
  {
   "cell_type": "code",
   "execution_count": 1,
   "metadata": {
    "collapsed": false
   },
   "outputs": [
   ],
   "source": [
    "import scipy.io as sio\n",
    "import pandas as pd\n",
    "import numpy as np\n",
    "from matplotlib import pyplot as plt\n",
    "import ipywidgets as widgets\n",
    "from ipywidgets import interact, interact_manual"
   ]
  },
  {
   "cell_type": "markdown",
   "metadata": {
    "collapsed": false
   },
   "source": [
    "# Crowder Single Unit Data\n",
    "\n",
    "### Data Source\n",
    "These data were provided courtesy of Dr. Nathan Crowder, Department of Psychology & Neuroscience, Dalhousie University. Data are from 23 mouse primary visual cortex neurons; for simplicity we are going to work with data from only 6 of these neurons.\n",
    "\n",
    "### Experimental Design\n",
    "- Visual stimuli were sine wave gratings drifting (oscillating) at 2 Hz (cycles/sec)\n",
    "- Each trial was 4000 ms in duration. \n",
    "- Data are sampled at 1000 Hz, meaning that we have a data point every 1 ms.\n",
    "- The stimuli were presented under 2 experimental **conditions**: control (CTRL) and adaptation (ADAPT). \n",
    "    - In the **CTRL** condition, each trial began with a 2000 ms blank grey screen, then the oscillating sine wave grating at the trial's contrast level (see below) for 1000 ms, then 1000 ms blank grey screen.\n",
    "    - In the **ADAPT** condition, each trial started with the adaptation stimulus, a 50% contrast sine wave grating for 2000 ms, then the sine wave grating at the trial's contrast level (see below), then 1000 ms blank grey screen. \n",
    "- Another variable that was manipulated was **contrast** of the sine wave grating. There were 10 contrast levels: 4, 8, 12, 16, 24, 32, 48, 64, 84, 100%. Contrast refers to the difference between the intensities (luminance) of the maximum (white) and minimum (black). Zero contrast would be a uniform grey stimulus (no different between max and minimum intensity), while 100% contrast would be the brightest white versus the blackest black that the monitor can produce.\n",
    "- within each condition (CTRL, ADAPT), each contrast level was presented 8 times. \n",
    "\n",
    "In the next cell we define these as variables that we'll use later in the script, but here we'll also use them to visualize the experimental design:"
   ]
  },
  {
   "cell_type": "markdown",
   "metadata": {
    "collapsed": false
   },
   "source": [
    "### Define experiment parameters\n",
    "Things we know about the experimental design that are useful to hard-code:"
   ]
  },
  {
   "cell_type": "code",
   "execution_count": 2,
   "metadata": {
    "collapsed": false
   },
   "outputs": [
   ],
   "source": [
    "cond_labels = ['CTRL', 'ADAPT'] \n",
    "contr_labels = [4, 8, 12, 16, 24, 32, 48, 64, 84, 100]\n",
    "rep_labels = list(np.arange(1, 8))\n",
    "num_reps = len(rep_labels)\n",
    "\n",
    "time_labels = list(np.arange(4000))\n",
    "\n",
    "stim_on_time = 2000\n",
    "stim_off_time = stim_on_time + 1000\n",
    "\n",
    "adapt_on_time = 0\n",
    "adapt_off_time = adapt_on_time + 2000"
   ]
  },
  {
   "cell_type": "markdown",
   "metadata": {
    "collapsed": false
   },
   "source": [
    "### Plot Experimental Design\n",
    "\n",
    "Some of the code below may come in handy later!"
   ]
  },
  {
   "cell_type": "code",
   "execution_count": 0,
   "metadata": {
    "collapsed": false,
    "scrolled": true
   },
   "outputs": [
   ],
   "source": [
    "\"\"\"\n",
    "fig = plt.figure(figsize=[8,18])\n",
    "\n",
    "subplot_counter = 1 # used to track subplots\n",
    "for contr in contr_labels:\n",
    "    for cond in cond_labels:\n",
    "        ax = fig.add_subplot(len(contr_labels), len(cond_labels), subplot_counter)\n",
    "        for rep in rep_labels:\n",
    "            plt.axhline(rep - .5, 0, 4000, color='black', linestyle='--', linewidth=.75)\n",
    "\n",
    "        # Show adaptation grating at 50% contrast\n",
    "        if cond == 'ADAPT':\n",
    "            plt.axvspan(0, stim_on_time-1, alpha=0.5, color='grey')\n",
    "                                                          \n",
    "        # shading indicates stimulus on period\n",
    "        plt.axvspan(stim_on_time, stim_off_time, alpha=contr/100, color='grey')\n",
    "        \n",
    "        # Pretty formatting\n",
    "        plt.xlim([0, max(time_labels)+1])\n",
    "        plt.ylim([0, len(rep_labels)])\n",
    "        plt.title(cond + ' ' + str(contr) + '% contrast')\n",
    "        plt.xlabel('Time (ms)')\n",
    "        plt.ylabel('Repetition',)\n",
    "        plt.yticks([x + 0.5 for x in range(num_reps)], [str(x + 1) for x in range(num_reps)], size=8) \n",
    "        plt.tight_layout()\n",
    "        subplot_counter += 1\n",
    "        \n",
    "plt.show()\n",
    "\"\"\""
   ]
  },
  {
   "cell_type": "markdown",
   "metadata": {
    "collapsed": false
   },
   "source": [
    "### Predictions \n",
    "- Some primary visual cortex cells are phase sensitive (so-called **simple cells**), so in response to a drifting sine wave grating they will oscillate between excitation and inhibition at the same temporal frequency of the stimulus (2 Hz in this case). There are a few simple cells among the 23 included.\n",
    "- Stimulus contrast can be plotted against the mean spike rate (2000–3000 ms in this data) to produce a contrast response function, which is a roughly sigmoid shaped function.\n",
    "- If you plot control and adapted contrast response functions you will find that adaptation \"squishes\" the contrast responses downwards (firing is attenuated following adaptation) and rightward (it takes higher contrasts to elicit a desired spike rate).\n",
    "- You can measure neural latency in the control condition, and latency is expected to decrease with increasing contrast."
   ]
  },
  {
   "cell_type": "markdown",
   "metadata": {
    "collapsed": false
   },
   "source": [
    "### Data Structure\n",
    "Data are provided in a Matlab file, similar to the one used in the [*Correlating Spike Trains*](https://dalpsychneuro.github.io/NESC_3505_textbook/spike_trains/corr_spike_trains.html) chapter. Although I've provided the code below to properly convert these data into a pandas DataFrame, I'll describe the structure briefly, both for reference and because it can help you in thinking about this complex, multi-dimensional data set. \n",
    "\n",
    "The data set is 5 dimensional. This is far less sci-fi than it sounds! It just means that we call each variable a \"dimension\" along which the data vary in a systematic way. So our dimensions are neuron (23 levels) x condition (2 levels) x contrast level (10) x repetitions (8) x time (4000 levels). This means we can compute the expected number of data points to be:"
   ]
  },
  {
   "cell_type": "code",
   "execution_count": 0,
   "metadata": {
    "collapsed": false
   },
   "outputs": [
   ],
   "source": [
    "23 * 2 * 10 * 8 * 4000"
   ]
  },
  {
   "cell_type": "markdown",
   "metadata": {
    "collapsed": false
   },
   "source": [
    "Whoa... 14.72 million data points! Good times to come. But as noted we're only going to work with 4 neurons, which will save memory and make things more manageable."
   ]
  },
  {
   "cell_type": "code",
   "execution_count": 0,
   "metadata": {
    "collapsed": false
   },
   "outputs": [
   ],
   "source": [
    "4 * 2 * 10 * 8 * 4000"
   ]
  },
  {
   "cell_type": "markdown",
   "metadata": {
    "collapsed": false
   },
   "source": [
    "Yep, only 2.5 m data points. Totally manageable. \n",
    "\n",
    "One last thing to note, that follows from the 4000 time points, is that these data are not in the form of spike times, but rather times series in which each time point is represented as a 0 (not spiking) or 1 (spiking)."
   ]
  },
  {
   "cell_type": "markdown",
   "metadata": {
    "collapsed": false
   },
   "source": [
    "## Read in Matlab data file"
   ]
  },
  {
   "cell_type": "code",
   "execution_count": 3,
   "metadata": {
    "collapsed": false
   },
   "outputs": [
   ],
   "source": [
    "dat = sio.loadmat('crowder_single_unit.mat')"
   ]
  },
  {
   "cell_type": "markdown",
   "metadata": {
    "collapsed": false
   },
   "source": [
    "## Figure out the structure of the data"
   ]
  },
  {
   "cell_type": "markdown",
   "metadata": {
    "collapsed": false
   },
   "source": [
    "<font color='#0F4C81'>\n",
    "<h2> \n",
    "    Q1\n",
    "    </h2>\n",
    "What is the type of `dat`? (answer using code output)\n",
    "</font>"
   ]
  },
  {
   "cell_type": "code",
   "execution_count": 0,
   "metadata": {
    "collapsed": false
   },
   "outputs": [
   ],
   "source": [
    "type(dat)"
   ]
  },
  {
   "cell_type": "markdown",
   "metadata": {
    "collapsed": false
   },
   "source": [
    "<font color='#0F4C81'>\n",
    "<h2> \n",
    "    Q2\n",
    "    </h2>\n",
    "What is the length of `dat`? (answer using code output)\n",
    "</font>"
   ]
  },
  {
   "cell_type": "code",
   "execution_count": 0,
   "metadata": {
    "collapsed": false
   },
   "outputs": [
   ],
   "source": [
    "len(dat)"
   ]
  },
  {
   "cell_type": "markdown",
   "metadata": {
    "collapsed": false
   },
   "source": [
    "In the Matlab file, the data are in 'SaveForAaron_May11_2020' (named after the original name that Dr. Crowder gave to the file when sharing it):"
   ]
  },
  {
   "cell_type": "code",
   "execution_count": 0,
   "metadata": {
    "collapsed": false
   },
   "outputs": [
   ],
   "source": [
    "dat.keys()"
   ]
  },
  {
   "cell_type": "markdown",
   "metadata": {
    "collapsed": false
   },
   "source": [
    "<font color='#0F4C81'>\n",
    "<h2> \n",
    "    Q3\n",
    "    </h2>\n",
    "What is the type of `'SaveForAaron_May11_2020'`? (answer using code output)\n",
    "</font>"
   ]
  },
  {
   "cell_type": "code",
   "execution_count": 0,
   "metadata": {
    "collapsed": false
   },
   "outputs": [
   ],
   "source": [
    "type(dat['SaveForAaron_May11_2020'])"
   ]
  },
  {
   "cell_type": "markdown",
   "metadata": {
    "collapsed": false
   },
   "source": [
    "<font color='#0F4C81'>\n",
    "<h2> \n",
    "    Q3b\n",
    "    </h2>\n",
    "What is the shape of `'SaveForAaron_May11_2020'`? (answer using code output)\n",
    "</font>"
   ]
  },
  {
   "cell_type": "code",
   "execution_count": 0,
   "metadata": {
    "collapsed": false
   },
   "outputs": [
   ],
   "source": [
    "dat['SaveForAaron_May11_2020'].shape"
   ]
  },
  {
   "cell_type": "markdown",
   "metadata": {
    "collapsed": false
   },
   "source": [
    "To see the what's stored for each neuron, we need to index the row (always 0, since there's only one row), and the appropriate column for that neuron. So for the first neuron:"
   ]
  },
  {
   "cell_type": "code",
   "execution_count": 0,
   "metadata": {
    "collapsed": false,
    "scrolled": true
   },
   "outputs": [
   ],
   "source": [
    "dat['SaveForAaron_May11_2020'][0,0]"
   ]
  },
  {
   "cell_type": "markdown",
   "metadata": {
    "collapsed": false
   },
   "source": [
    "<font color='#0F4C81'>\n",
    "<h2> \n",
    "    Q4\n",
    "    </h2>\n",
    "Modify the command in the previous code cell, to visualize the data from the last neuron in the set:\n",
    "</font>"
   ]
  },
  {
   "cell_type": "code",
   "execution_count": 0,
   "metadata": {
    "collapsed": false,
    "scrolled": true
   },
   "outputs": [
   ],
   "source": [
    "dat['SaveForAaron_May11_2020'][-1,-1]"
   ]
  },
  {
   "cell_type": "markdown",
   "metadata": {
    "collapsed": false
   },
   "source": [
    "You can see that each of those entries is entirely contained in parentheses, indicating it's a tuple. So rather than the numpy `.shape()` method we need to use the `len()` function:"
   ]
  },
  {
   "cell_type": "code",
   "execution_count": 0,
   "metadata": {
    "collapsed": false
   },
   "outputs": [
   ],
   "source": [
    "len(dat['SaveForAaron_May11_2020'][0,0])"
   ]
  },
  {
   "cell_type": "markdown",
   "metadata": {
    "collapsed": false
   },
   "source": [
    "The first entry in the tuple is the label of the neuron. Somewhat awkwardly, the label is actually buried inside a numpy array:"
   ]
  },
  {
   "cell_type": "code",
   "execution_count": 0,
   "metadata": {
    "collapsed": false
   },
   "outputs": [
   ],
   "source": [
    "dat['SaveForAaron_May11_2020'][0,0][0]"
   ]
  },
  {
   "cell_type": "markdown",
   "metadata": {
    "collapsed": false
   },
   "source": [
    "So we have another level of indexing to grab the label:"
   ]
  },
  {
   "cell_type": "code",
   "execution_count": 0,
   "metadata": {
    "collapsed": false
   },
   "outputs": [
   ],
   "source": [
    "dat['SaveForAaron_May11_2020'][0,0][0][0]"
   ]
  },
  {
   "cell_type": "markdown",
   "metadata": {
    "collapsed": false
   },
   "source": [
    "The second entry in each neuron's tuple is the data:"
   ]
  },
  {
   "cell_type": "code",
   "execution_count": 0,
   "metadata": {
    "collapsed": false
   },
   "outputs": [
   ],
   "source": [
    "dat['SaveForAaron_May11_2020'][0,0][1].shape"
   ]
  },
  {
   "cell_type": "markdown",
   "metadata": {
    "collapsed": false
   },
   "source": [
    "One confusing thing is that although we have a 5 dimensional experimental design (23 x 2 x 10 x 8 x 4000) our data only has 4 dimensions — the cells, and within each cell, a 3-dimensional array. Furthermore there is no dimension of either length 2 (conditions) or 10 (contrast levels). There *is* however a dimensions with 20 levels, so it looks like those two variables are combined in the data. Indeed, Dr. Crowder documented that the order of those 20 levels is all 10 contrast levels for the CTRL condition first, then all 10 contrast levels for the ADAPT condition. \n",
    "\n",
    "Also, in contrast the hierarchical ordering of the variables I provided above (time inside repetitions inside contrast inside condition inside neuron), the data are ordered a bit differently: for each neuron, there are 4000 rows (time) x 8 columns (repetitions) x 20 \"pages\" (conditions). We call the third dimension of the matrix \"pages\"; if you think of the data as a 3D cube, visualize this dimension as depth."
   ]
  },
  {
   "cell_type": "markdown",
   "metadata": {
    "collapsed": false
   },
   "source": [
    "## Convert to pandas DataFrame\n",
    "### Create lists of condition labels"
   ]
  },
  {
   "cell_type": "markdown",
   "metadata": {
    "collapsed": false
   },
   "source": [
    "The next cell sets up labels for the rows of the DataFrame we're going to create. It's always important, in multi-dimensional data like this, to know what variables change \"fastest\" and which change \"slowest\". \"Fastest means, from one row to the next, the value of that variable changes. In our case, we are going to organize the DataFrame so that all of the data for one neuron come before any data from the next neuron. So `neuron` changes slowest. `time` will change fastest, because we want all the time points of one trial (`repetition`), in sequence, before any time points of the next trial. `repetition` changes next-fastest, followed by `contrast` level, followed by `condition`.\n",
    "\n",
    "Below this we use numpy's `.reshape()` method with the `newshape` argument set to `-1` (to reshape the 3D matrix into a 1D vector) and  `order='F'`. The latter tells the method to read / write the elements with the first index (dimension of the input data) changing fastest, and the last index changing slowest (if you're curious, the `F` is for Fortran, a language which uses this ordering). In our case, the first index is `time`. We know this because the shape of the input data is (4000, 8, 20), so time is the first dimension of the data. and it makes sense to list all the time points for one trial before moving on to the next. We do need to be aware of this so that we can set up the labels for each data point correctly. I've done this for you though, because getting it right is tricky, and if you get it wrong, all your results will be wrong (speaking as someone who learned the hard way...). "
   ]
  },
  {
   "cell_type": "code",
   "execution_count": 4,
   "metadata": {
    "collapsed": false
   },
   "outputs": [
   ],
   "source": [
    "# Compute the total number of data points per neuron; we need to know how\n",
    "#   many rows our DataFrame needs to have.\n",
    "len_data = [(x * y * z) for x, y, z in [dat['SaveForAaron_May11_2020'][0][0][1].shape]][0]\n",
    "\n",
    "# Set up vectors to label the columns in the pandas DataFrame\n",
    "num_tp = dat['SaveForAaron_May11_2020'][0,0][1].shape[0]\n",
    "time_labels = list(np.arange(num_tp))\n",
    "times = time_labels * (len_data//len(time_labels))\n",
    "\n",
    "num_condcontr = dat['SaveForAaron_May11_2020'][0,0][1].shape[2]\n",
    "num_cond = len(cond_labels)\n",
    "num_contr = len(contr_labels)\n",
    "\n",
    "num_reps = dat['SaveForAaron_May11_2020'][0,0][1].shape[1]\n",
    "rep_labels = list(np.arange(1, num_reps+1))\n",
    "reps = np.tile(np.repeat(rep_labels, num_tp), num_cond * num_contr)\n",
    "\n",
    "# Since condition and contrast are actually separate variables, we'll\n",
    "#  break them out here.\n",
    "contrs = np.tile(np.repeat(contr_labels, num_tp * num_reps), num_cond)\n",
    "conditions = np.repeat(cond_labels, num_tp * num_reps * num_contr)\n",
    "\n",
    "neuron_labels = ['m1_6', 'm1_12', 'm3_4', 'm3_11', 'm6_3a2', 'm6_11']\n",
    "num_neurons = len(neuron_labels)"
   ]
  },
  {
   "cell_type": "code",
   "execution_count": 19,
   "metadata": {
    "collapsed": false
   },
   "outputs": [
    {
     "data": {
      "text/plain": [
       "20"
      ]
     },
     "execution_count": 19,
     "metadata": {
     },
     "output_type": "execute_result"
    }
   ],
   "source": [
    "num_condcontr"
   ]
  },
  {
   "cell_type": "markdown",
   "metadata": {
    "collapsed": false
   },
   "source": [
    "Below is the code that creates the DataFrame. \n",
    "\n",
    "Building a DataFrame with 2.5 m rows takes some time, so be patient while this runs:"
   ]
  },
  {
   "cell_type": "code",
   "execution_count": 5,
   "metadata": {
    "collapsed": false
   },
   "outputs": [
   ],
   "source": [
    "df_list = []\n",
    "\n",
    "for n in range(num_neurons):\n",
    "    neurons = np.repeat(neuron_labels[n], len_data)\n",
    "    df_tmp = pd.DataFrame(zip(neurons, times, reps, contrs, conditions,\n",
    "                              dat['SaveForAaron_May11_2020'][0][n][1].reshape(-1, order='F')[None][0]), \n",
    "                      columns = ['neuron', 'time', 'repetition', 'contrast', 'condition', 'spike']\n",
    "                     )\n",
    "    df_list.append(df_tmp)\n",
    "    \n",
    "df = pd.concat(df_list)\n",
    "\n",
    "# Clear things from memory so CoCalc doesn't run out\n",
    "del df_tmp\n",
    "del dat"
   ]
  },
  {
   "cell_type": "markdown",
   "metadata": {
    "collapsed": false
   },
   "source": [
    "<font color='#0F4C81'>\n",
    "<h2> \n",
    "    Q5\n",
    "    </h2>\n",
    "    \n",
    "Show the DataFrame, `df`:\n",
    "</font>"
   ]
  },
  {
   "cell_type": "code",
   "execution_count": 0,
   "metadata": {
    "collapsed": false
   },
   "outputs": [
   ],
   "source": [
    "df"
   ]
  },
  {
   "cell_type": "markdown",
   "metadata": {
    "collapsed": false
   },
   "source": [
    "### Confirm this worked\n",
    "\n",
    "The code above is pretty complex, and it is easy to mess it up. It took me many tries to get it right. We can (and should) validate that this worked by checking at the rows in the DataFrame where we expect labels to switch (e.g., at the end of the first rep, end of all reps of first contrast, etc.). You can figure out which rows of the DataFrame to look at using simple multiplication."
   ]
  },
  {
   "cell_type": "markdown",
   "metadata": {
    "collapsed": false
   },
   "source": [
    "<font color='#0F4C81'>\n",
    "<h2> \n",
    "    Q6\n",
    "    </h2>\n",
    "Show the rows of the DataFrame corresponding to the end of the first repetition of the first contrast level and the start of the second repetition of the first contrast level (for the first neuron, and the first condition). Show at least two rows before and after the transition from repetition 1 to 2. Hint: Each repetition is 4000 time points, i.e., 4000 rows.\n",
    "</font>"
   ]
  },
  {
   "cell_type": "code",
   "execution_count": 14,
   "metadata": {
    "collapsed": false
   },
   "outputs": [
    {
     "data": {
      "text/html": [
       "<div>\n",
       "<style scoped>\n",
       "    .dataframe tbody tr th:only-of-type {\n",
       "        vertical-align: middle;\n",
       "    }\n",
       "\n",
       "    .dataframe tbody tr th {\n",
       "        vertical-align: top;\n",
       "    }\n",
       "\n",
       "    .dataframe thead th {\n",
       "        text-align: right;\n",
       "    }\n",
       "</style>\n",
       "<table border=\"1\" class=\"dataframe\">\n",
       "  <thead>\n",
       "    <tr style=\"text-align: right;\">\n",
       "      <th></th>\n",
       "      <th>neuron</th>\n",
       "      <th>time</th>\n",
       "      <th>repetition</th>\n",
       "      <th>contrast</th>\n",
       "      <th>condition</th>\n",
       "      <th>spike</th>\n",
       "    </tr>\n",
       "  </thead>\n",
       "  <tbody>\n",
       "    <tr>\n",
       "      <th>3998</th>\n",
       "      <td>m1_6</td>\n",
       "      <td>3998</td>\n",
       "      <td>1</td>\n",
       "      <td>4</td>\n",
       "      <td>CTRL</td>\n",
       "      <td>0</td>\n",
       "    </tr>\n",
       "    <tr>\n",
       "      <th>3999</th>\n",
       "      <td>m1_6</td>\n",
       "      <td>3999</td>\n",
       "      <td>1</td>\n",
       "      <td>4</td>\n",
       "      <td>CTRL</td>\n",
       "      <td>0</td>\n",
       "    </tr>\n",
       "    <tr>\n",
       "      <th>4000</th>\n",
       "      <td>m1_6</td>\n",
       "      <td>0</td>\n",
       "      <td>2</td>\n",
       "      <td>4</td>\n",
       "      <td>CTRL</td>\n",
       "      <td>0</td>\n",
       "    </tr>\n",
       "    <tr>\n",
       "      <th>4001</th>\n",
       "      <td>m1_6</td>\n",
       "      <td>1</td>\n",
       "      <td>2</td>\n",
       "      <td>4</td>\n",
       "      <td>CTRL</td>\n",
       "      <td>0</td>\n",
       "    </tr>\n",
       "  </tbody>\n",
       "</table>\n",
       "</div>"
      ],
      "text/plain": [
       "     neuron  time  repetition  contrast condition  spike\n",
       "3998   m1_6  3998           1         4      CTRL      0\n",
       "3999   m1_6  3999           1         4      CTRL      0\n",
       "4000   m1_6     0           2         4      CTRL      0\n",
       "4001   m1_6     1           2         4      CTRL      0"
      ]
     },
     "execution_count": 14,
     "metadata": {
     },
     "output_type": "execute_result"
    }
   ],
   "source": [
    "df[num_tp-2:num_tp+2]"
   ]
  },
  {
   "cell_type": "markdown",
   "metadata": {
    "collapsed": false
   },
   "source": [
    "<font color='#0F4C81'>\n",
    "<h2> \n",
    "    Q7\n",
    "    </h2>\n",
    "Show the rows of the DataFrame corresponding to the end of the 8th repetition of the first contrast level, and the 1st repetition of the second contrast level (for the first neuron, and the first condition). Show at least two rows before and after the transition.\n",
    "</font>"
   ]
  },
  {
   "cell_type": "code",
   "execution_count": 16,
   "metadata": {
    "collapsed": false
   },
   "outputs": [
    {
     "data": {
      "text/html": [
       "<div>\n",
       "<style scoped>\n",
       "    .dataframe tbody tr th:only-of-type {\n",
       "        vertical-align: middle;\n",
       "    }\n",
       "\n",
       "    .dataframe tbody tr th {\n",
       "        vertical-align: top;\n",
       "    }\n",
       "\n",
       "    .dataframe thead th {\n",
       "        text-align: right;\n",
       "    }\n",
       "</style>\n",
       "<table border=\"1\" class=\"dataframe\">\n",
       "  <thead>\n",
       "    <tr style=\"text-align: right;\">\n",
       "      <th></th>\n",
       "      <th>neuron</th>\n",
       "      <th>time</th>\n",
       "      <th>repetition</th>\n",
       "      <th>contrast</th>\n",
       "      <th>condition</th>\n",
       "      <th>spike</th>\n",
       "    </tr>\n",
       "  </thead>\n",
       "  <tbody>\n",
       "    <tr>\n",
       "      <th>31998</th>\n",
       "      <td>m1_6</td>\n",
       "      <td>3998</td>\n",
       "      <td>8</td>\n",
       "      <td>4</td>\n",
       "      <td>CTRL</td>\n",
       "      <td>0</td>\n",
       "    </tr>\n",
       "    <tr>\n",
       "      <th>31999</th>\n",
       "      <td>m1_6</td>\n",
       "      <td>3999</td>\n",
       "      <td>8</td>\n",
       "      <td>4</td>\n",
       "      <td>CTRL</td>\n",
       "      <td>0</td>\n",
       "    </tr>\n",
       "    <tr>\n",
       "      <th>32000</th>\n",
       "      <td>m1_6</td>\n",
       "      <td>0</td>\n",
       "      <td>1</td>\n",
       "      <td>8</td>\n",
       "      <td>CTRL</td>\n",
       "      <td>0</td>\n",
       "    </tr>\n",
       "    <tr>\n",
       "      <th>32001</th>\n",
       "      <td>m1_6</td>\n",
       "      <td>1</td>\n",
       "      <td>1</td>\n",
       "      <td>8</td>\n",
       "      <td>CTRL</td>\n",
       "      <td>0</td>\n",
       "    </tr>\n",
       "  </tbody>\n",
       "</table>\n",
       "</div>"
      ],
      "text/plain": [
       "      neuron  time  repetition  contrast condition  spike\n",
       "31998   m1_6  3998           8         4      CTRL      0\n",
       "31999   m1_6  3999           8         4      CTRL      0\n",
       "32000   m1_6     0           1         8      CTRL      0\n",
       "32001   m1_6     1           1         8      CTRL      0"
      ]
     },
     "execution_count": 16,
     "metadata": {
     },
     "output_type": "execute_result"
    }
   ],
   "source": [
    "df[(num_reps*num_tp-2):(num_reps*num_tp+2)]"
   ]
  },
  {
   "cell_type": "markdown",
   "metadata": {
    "collapsed": false
   },
   "source": [
    "<font color='#0F4C81'>\n",
    "<h2> \n",
    "    Q8\n",
    "    </h2>\n",
    "Show the rows of the DataFrame corresponding to the end of the CTRL condition and the start of the ADAPT condition, for the first neuron. Show at least two rows before and after the transition.\n",
    "</font>"
   ]
  },
  {
   "cell_type": "code",
   "execution_count": 18,
   "metadata": {
    "collapsed": false,
    "scrolled": true
   },
   "outputs": [
    {
     "data": {
      "text/html": [
       "<div>\n",
       "<style scoped>\n",
       "    .dataframe tbody tr th:only-of-type {\n",
       "        vertical-align: middle;\n",
       "    }\n",
       "\n",
       "    .dataframe tbody tr th {\n",
       "        vertical-align: top;\n",
       "    }\n",
       "\n",
       "    .dataframe thead th {\n",
       "        text-align: right;\n",
       "    }\n",
       "</style>\n",
       "<table border=\"1\" class=\"dataframe\">\n",
       "  <thead>\n",
       "    <tr style=\"text-align: right;\">\n",
       "      <th></th>\n",
       "      <th>neuron</th>\n",
       "      <th>time</th>\n",
       "      <th>repetition</th>\n",
       "      <th>contrast</th>\n",
       "      <th>condition</th>\n",
       "      <th>spike</th>\n",
       "    </tr>\n",
       "  </thead>\n",
       "  <tbody>\n",
       "    <tr>\n",
       "      <th>319998</th>\n",
       "      <td>m1_6</td>\n",
       "      <td>3998</td>\n",
       "      <td>8</td>\n",
       "      <td>100</td>\n",
       "      <td>CTRL</td>\n",
       "      <td>0</td>\n",
       "    </tr>\n",
       "    <tr>\n",
       "      <th>319999</th>\n",
       "      <td>m1_6</td>\n",
       "      <td>3999</td>\n",
       "      <td>8</td>\n",
       "      <td>100</td>\n",
       "      <td>CTRL</td>\n",
       "      <td>0</td>\n",
       "    </tr>\n",
       "    <tr>\n",
       "      <th>320000</th>\n",
       "      <td>m1_6</td>\n",
       "      <td>0</td>\n",
       "      <td>1</td>\n",
       "      <td>4</td>\n",
       "      <td>ADAPT</td>\n",
       "      <td>0</td>\n",
       "    </tr>\n",
       "    <tr>\n",
       "      <th>320001</th>\n",
       "      <td>m1_6</td>\n",
       "      <td>1</td>\n",
       "      <td>1</td>\n",
       "      <td>4</td>\n",
       "      <td>ADAPT</td>\n",
       "      <td>0</td>\n",
       "    </tr>\n",
       "  </tbody>\n",
       "</table>\n",
       "</div>"
      ],
      "text/plain": [
       "       neuron  time  repetition  contrast condition  spike\n",
       "319998   m1_6  3998           8       100      CTRL      0\n",
       "319999   m1_6  3999           8       100      CTRL      0\n",
       "320000   m1_6     0           1         4     ADAPT      0\n",
       "320001   m1_6     1           1         4     ADAPT      0"
      ]
     },
     "execution_count": 18,
     "metadata": {
     },
     "output_type": "execute_result"
    }
   ],
   "source": [
    "# Find the index of the following\n",
    "# df[(df['neuron']=='m1_6') & (df['condition'] =='CTRL')].tail(2)\n",
    "df[(num_contr*num_reps*num_tp-2):(num_contr*num_reps*num_tp+2)]"
   ]
  },
  {
   "cell_type": "markdown",
   "metadata": {
    "collapsed": false
   },
   "source": [
    "<font color='#0F4C81'>\n",
    "<h2> \n",
    "    Q9\n",
    "    </h2>\n",
    "Show the rows of the DataFrame corresponding to the end of the data for the first neuron, and the start of the data for the second neuron. Show at least two rows before and after the transition.\n",
    "</font>"
   ]
  },
  {
   "cell_type": "code",
   "execution_count": 20,
   "metadata": {
    "collapsed": false
   },
   "outputs": [
    {
     "data": {
      "text/html": [
       "<div>\n",
       "<style scoped>\n",
       "    .dataframe tbody tr th:only-of-type {\n",
       "        vertical-align: middle;\n",
       "    }\n",
       "\n",
       "    .dataframe tbody tr th {\n",
       "        vertical-align: top;\n",
       "    }\n",
       "\n",
       "    .dataframe thead th {\n",
       "        text-align: right;\n",
       "    }\n",
       "</style>\n",
       "<table border=\"1\" class=\"dataframe\">\n",
       "  <thead>\n",
       "    <tr style=\"text-align: right;\">\n",
       "      <th></th>\n",
       "      <th>neuron</th>\n",
       "      <th>time</th>\n",
       "      <th>repetition</th>\n",
       "      <th>contrast</th>\n",
       "      <th>condition</th>\n",
       "      <th>spike</th>\n",
       "    </tr>\n",
       "  </thead>\n",
       "  <tbody>\n",
       "    <tr>\n",
       "      <th>639998</th>\n",
       "      <td>m1_6</td>\n",
       "      <td>3998</td>\n",
       "      <td>8</td>\n",
       "      <td>100</td>\n",
       "      <td>ADAPT</td>\n",
       "      <td>0</td>\n",
       "    </tr>\n",
       "    <tr>\n",
       "      <th>639999</th>\n",
       "      <td>m1_6</td>\n",
       "      <td>3999</td>\n",
       "      <td>8</td>\n",
       "      <td>100</td>\n",
       "      <td>ADAPT</td>\n",
       "      <td>0</td>\n",
       "    </tr>\n",
       "    <tr>\n",
       "      <th>0</th>\n",
       "      <td>m1_12</td>\n",
       "      <td>0</td>\n",
       "      <td>1</td>\n",
       "      <td>4</td>\n",
       "      <td>CTRL</td>\n",
       "      <td>0</td>\n",
       "    </tr>\n",
       "    <tr>\n",
       "      <th>1</th>\n",
       "      <td>m1_12</td>\n",
       "      <td>1</td>\n",
       "      <td>1</td>\n",
       "      <td>4</td>\n",
       "      <td>CTRL</td>\n",
       "      <td>0</td>\n",
       "    </tr>\n",
       "  </tbody>\n",
       "</table>\n",
       "</div>"
      ],
      "text/plain": [
       "       neuron  time  repetition  contrast condition  spike\n",
       "639998   m1_6  3998           8       100     ADAPT      0\n",
       "639999   m1_6  3999           8       100     ADAPT      0\n",
       "0       m1_12     0           1         4      CTRL      0\n",
       "1       m1_12     1           1         4      CTRL      0"
      ]
     },
     "execution_count": 20,
     "metadata": {
     },
     "output_type": "execute_result"
    }
   ],
   "source": [
    "df[(num_condcontr*num_reps*num_tp-2):(num_condcontr*num_reps*num_tp+2)]"
   ]
  },
  {
   "cell_type": "markdown",
   "metadata": {
    "collapsed": false
   },
   "source": [
    "<font color='#0F4C81'>\n",
    "<h2> \n",
    "    Q10\n",
    "    </h2>\n",
    "Show the total number of spikes in the DataFrame:\n",
    "</font>"
   ]
  },
  {
   "cell_type": "code",
   "execution_count": 0,
   "metadata": {
    "collapsed": false
   },
   "outputs": [
   ],
   "source": [
    "df['spike'].sum()"
   ]
  },
  {
   "cell_type": "markdown",
   "metadata": {
    "collapsed": false
   },
   "source": [
    "<font color='#0F4C81'>\n",
    "<h2> \n",
    "    Q11\n",
    "    </h2>\n",
    "\n",
    "## Raster plots\n",
    "\n",
    "This is a complex experiment so we need lots of raster plots to see all trials for all contrast levels, and both conditions. So many, in fact (8 x 10 * 2) that we will only want to visualize the rasters for one neuron at a time. \n",
    "\n",
    "Below is a copy of the code near the top of this notebook that plotted the experimental design. Modify it to instead plot the rasters of spike times for the first neuron, using the same layout. Remove the horizontal lines that indicated each repetition.\n",
    "    </font>"
   ]
  },
  {
   "cell_type": "code",
   "execution_count": 0,
   "metadata": {
    "collapsed": false
   },
   "outputs": [
   ],
   "source": [
    "fig = plt.figure(figsize=[8,18])\n",
    "\n",
    "# Assign value first neuron\n",
    "neuron = df.iloc[0]['neuron']\n",
    "\n",
    "\n",
    "fig.suptitle('Raster plots of spiking in neuron ' + neuron + ' in each condition and contrast level', fontsize=16)\n",
    "\n",
    "# This cell runs way faster if we pre-select the neuron rather than using a \n",
    "#  combination of '&'' statements inside the loop. Just pre-selecting the neuron\n",
    "#  dropped the execution time from nearly 5 min to 9 sec!!\n",
    "neu_dat = df[(df['neuron'] == neuron)]\n",
    "\n",
    "subplot_counter = 1 # used to track subplots\n",
    "for contr in contr_labels:\n",
    "    tmp_dat = neu_dat[(neu_dat['contrast'] == contr)] # this further speeds execution by a factor of 3\n",
    "\n",
    "    for cond in cond_labels:\n",
    "        ax = fig.add_subplot(len(contr_labels), len(cond_labels), subplot_counter)\n",
    "        for rep in rep_labels:\n",
    "            # insert code that will select the times corresponding to the rows of \n",
    "            #  tmp_dat that match the current condition and rep, and also contain spikes\n",
    "            spike_times = tmp_dat[(tmp_dat['repetition'] == rep) & (tmp_dat['condition'] == cond) & (tmp_dat['spike'] == 1)]['time']\n",
    "            # change the line below to plot vertical lines at the times of each spike\n",
    "            plt.vlines(spike_times, rep-1, rep, color='black', linestyle='--', linewidth=.75)\n",
    "\n",
    "        # Show adaptation grating at 50% contrast\n",
    "        if cond == 'ADAPT':\n",
    "            plt.axvspan(0, stim_on_time-1, alpha=0.5, color='grey')\n",
    "                                                          \n",
    "        # shading indicates stimulus on period\n",
    "        plt.axvspan(stim_on_time, stim_off_time, alpha=contr/100, color='grey')\n",
    "        \n",
    "        # Pretty formatting - pay attention here, as you may need to change some things\n",
    "        # to correspond to the raster plot details\n",
    "        plt.xlim([0, max(time_labels)+1])\n",
    "        plt.ylim([0, len(rep_labels)])\n",
    "        if contr == 4:\n",
    "            plt.title(cond + ' condition')\n",
    "        \n",
    "        if contr == 100:\n",
    "            plt.xlabel('Time (ms)')\n",
    "        else:\n",
    "            plt.xticks([])\n",
    "        \n",
    "        if cond == 'CTRL':\n",
    "            plt.ylabel(str(contr) + '% contrast \\nRepetition #')\n",
    "            \n",
    "        # Should this be modified?\n",
    "        plt.yticks([x + 0.5 for x in range(num_reps)], [str(x + 1) for x in range(num_reps)], size=8) \n",
    "        plt.tight_layout(rect=[0, 0, 1, 0.97])\n",
    "        subplot_counter += 1\n",
    "        \n",
    "plt.show()"
   ]
  },
  {
   "cell_type": "markdown",
   "metadata": {
    "collapsed": false
   },
   "source": [
    "<font color='#0F4C81'>\n",
    "<h2> \n",
    "    Q12\n",
    "    </h2>\n",
    "\n",
    "## Interactive plot\n",
    "    \n",
    "Adapt your code from the cell above to generate an interactive plot, that allows you to select the neuron from a drop-down menu and plot the rasters for that neuron.\n",
    "    </font>"
   ]
  },
  {
   "cell_type": "code",
   "execution_count": 0,
   "metadata": {
    "collapsed": false
   },
   "outputs": [
   ],
   "source": [
    "neurons = df['neuron'].unique()\n",
    "\n",
    "@interact\n",
    "def rasterplot_i(neuron=neurons):\n",
    "    fig = plt.figure(figsize=[8,18])\n",
    "    fig.suptitle('Raster plots of spiking in neuron ' + neuron + ' in each condition and contrast level')\n",
    "\n",
    "\n",
    "# This cell runs way faster if we pre-select the neuron rather than using a \n",
    "#  combination of '&'' statements inside the loop. Just pre-selecting the neuron\n",
    "#  dropped the execution time from nearly 5 min to 9 sec!!\n",
    "    neu_dat = df[(df['neuron'] == neuron)]\n",
    "\n",
    "    subplot_counter = 1 # used to track subplots\n",
    "    for contr in contr_labels:\n",
    "        tmp_dat = neu_dat[(neu_dat['contrast'] == contr)] # this further speeds execution by a factor of 3\n",
    "\n",
    "        for cond in cond_labels:\n",
    "            ax = fig.add_subplot(len(contr_labels), len(cond_labels), subplot_counter)\n",
    "            for rep in rep_labels:\n",
    "            # insert code that will select the times corresponding to the rows of \n",
    "            #  tmp_dat that match the current condition and rep, and also contain spikes\n",
    "                spike_times = tmp_dat[(tmp_dat['repetition'] == rep) & (tmp_dat['condition'] == cond) & (tmp_dat['spike'] == 1)]['time']\n",
    "            # change the line below to plot vertical lines at the times of each spike\n",
    "                plt.vlines(spike_times, rep-1, rep, color='black', linestyle='--', linewidth=.75)\n",
    "\n",
    "        # Show adaptation grating at 50% contrast\n",
    "            if cond == 'ADAPT':\n",
    "                plt.axvspan(0, stim_on_time-1, alpha=0.5, color='grey')\n",
    "                                                          \n",
    "        # shading indicates stimulus on period\n",
    "            plt.axvspan(stim_on_time, stim_off_time, alpha=contr/100, color='grey')\n",
    "        \n",
    "        # Pretty formatting - pay attention here, as you may need to change some things\n",
    "        # to correspond to the raster plot details\n",
    "            plt.xlim([0, max(time_labels)+1])\n",
    "            plt.ylim([0, len(rep_labels)])\n",
    "            if contr == 4:\n",
    "                plt.title(cond + ' condition')\n",
    "            if contr == 100:\n",
    "                plt.xlabel('Time (ms)')\n",
    "            else:\n",
    "                plt.xticks([])\n",
    "            if cond == 'CTRL':\n",
    "                plt.ylabel(str(contr) + '% contrast \\nRepetition #')\n",
    "        # Should this be modified?\n",
    "            plt.yticks([x + 0.5 for x in range(num_reps)], [str(x + 1) for x in range(num_reps)], size=8) \n",
    "            plt.tight_layout(rect=[0, 0, 1, 0.97])\n",
    "            subplot_counter += 1\n",
    "        \n",
    "    plt.show()\n",
    "    "
   ]
  },
  {
   "cell_type": "markdown",
   "metadata": {
    "collapsed": false
   },
   "source": [
    "<font color='#0F4C81'>\n",
    "<h2> \n",
    "    Q13\n",
    "    </h2>\n",
    "  \n",
    "## PSTHs\n",
    "\n",
    "Adapt your code from the cell above to generate an interactive peri-stimulus time histogram (PTSH) plot, that allows you to select the neuron from a drop-down menu and plot the PSTH for that neuron. Use the same subplot layout of 2 columns (conditions) and 10 rows (contrast)\n",
    "    </font>"
   ]
  },
  {
   "cell_type": "code",
   "execution_count": 21,
   "metadata": {
    "collapsed": false
   },
   "outputs": [
   ],
   "source": [
    "# DO NOT MODIFY THIS CELL\n",
    "# Define bins for histograms\n",
    "hist_bin_width = 50 \n",
    "time_bins = np.arange(0, max(time_labels), hist_bin_width)"
   ]
  },
  {
   "cell_type": "code",
   "execution_count": 0,
   "metadata": {
    "collapsed": false
   },
   "outputs": [
   ],
   "source": [
    "# PUT YOUR ANSWER CODE IN THIS CELL\n",
    "@interact\n",
    "def psth_i(neuron=neuron_labels):\n",
    "    fig = plt.figure(figsize=[8,18])\n",
    "    fig.suptitle('Peristimulus time histograms of spiking in neuron ' + neuron + ' in each condition and contrast level')\n",
    "\n",
    "    neu_dat = df[(df['neuron'] == neuron)]\n",
    "\n",
    "    subplot_counter = 1\n",
    "    for contr in contr_labels:\n",
    "        tmp_dat = neu_dat[(neu_dat['contrast'] == contr)]\n",
    "\n",
    "        for cond in cond_labels:\n",
    "            ax = fig.add_subplot(len(contr_labels), len(cond_labels), subplot_counter)\n",
    "            spike_times = []\n",
    "            for rep in rep_labels:\n",
    "                spike_times = tmp_dat[(tmp_dat['repetition'] == rep) & (tmp_dat['condition'] == cond) & (tmp_dat['spike'] == 1)]['time']\n",
    "            np.histogram(spike_times)\n",
    "            #!!! plt.plot(spike_times, rep-1, rep, color='black', linestyle='--', linewidth=.75)\n",
    "            # plot time vs. probability of count\n",
    "            # 0-4000 vs. AP/8\n",
    "\n",
    "        # Display adaptation grating at 50% contrast\n",
    "            if cond == 'ADAPT':\n",
    "                plt.axvspan(0, stim_on_time-1, alpha=0.5, color='grey')\n",
    "                                                          \n",
    "        # shading indicates stimulus on period\n",
    "            plt.axvspan(stim_on_time, stim_off_time, alpha=contr/100, color='grey')\n",
    "        \n",
    "        # Pretty formatting - pay attention here, as you may need to change some things\n",
    "        # to correspond to the raster plot details\n",
    "            plt.xlim([0, max(time_labels)+1])\n",
    "            plt.ylim([0, len(rep_labels)])\n",
    "            if contr == 4:\n",
    "                plt.title(cond + ' condition')\n",
    "            if contr == 100:\n",
    "                plt.xlabel('Time (ms)')\n",
    "            else:\n",
    "                plt.xticks([])\n",
    "            if cond == 'CTRL':\n",
    "                plt.ylabel(str(contr) + '% contrast \\nRepetition #')\n",
    "        # Should this be modified?\n",
    "            plt.yticks([x + 0.5 for x in range(num_reps)], [str(x + 1) for x in range(num_reps)], size=8) \n",
    "            plt.tight_layout(rect=[0, 0, 1, 0.97])\n",
    "            subplot_counter += 1\n",
    "        \n",
    "    plt.show()"
   ]
  },
  {
   "cell_type": "markdown",
   "metadata": {
    "collapsed": false
   },
   "source": [
    "<font color='#0F4C81'>\n",
    "<h2> \n",
    "    Q14\n",
    "    </h2>\n",
    "\n",
    "### Heat maps\n",
    "    \n",
    "Plot heat maps showing the PTSHs, with colour indicating the spike count. The great thing about heat maps is how condensed they are. We don't really need to use an interactive plot, because one plot includes all contrast levels. So plot this with two columns (CTRL, ADAPT) and 4 rows (each neuron).\n",
    "    \n",
    "For each heat map, put time on the *x* axis, contrast on the *y* axis, and colour indicating the number of spikes per bin. \n",
    "\n",
    "For heat maps you need to compute the histograms for all contrast levels, and store these temporarily in an object such as a list dictionary, or numpy array.\n",
    "</font>\n"
   ]
  },
  {
   "cell_type": "code",
   "execution_count": 0,
   "metadata": {
    "collapsed": false
   },
   "outputs": [
   ],
   "source": [
    "cmap='viridis'"
   ]
  },
  {
   "cell_type": "markdown",
   "metadata": {
    "collapsed": false
   },
   "source": [
    "<font color='#0F4C81'>\n",
    "<h2> \n",
    "    Q15\n",
    "    </h2>\n",
    "    \n",
    "Provide a rationale for your choice of color map for the heat maps above.\n",
    "</font>\n"
   ]
  },
  {
   "cell_type": "markdown",
   "metadata": {
    "collapsed": false
   },
   "source": [
    "<font color='green'>\n",
    "- perceptually uniform\n",
    "- x% of population with colourblindness"
   ]
  },
  {
   "cell_type": "markdown",
   "metadata": {
    "collapsed": false
   },
   "source": [
    "<font color='#0F4C81'>\n",
    "<h2> \n",
    "    Q16\n",
    "    </h2>\n",
    "    \n",
    "## Contrast Response Functions\n",
    "\n",
    "Plot stimulus contrast (*x*) against the mean spike rate (*y*) during the stimulus \"on\" period (2000–3000 ms) to produce a contrast response function (CRF), which is a roughly sigmoid-shaped function.\n",
    "\n",
    "Plot the CRF for the two conditions on the same plot, with one subplot per neuron. \n",
    "    </font>"
   ]
  },
  {
   "cell_type": "code",
   "execution_count": 0,
   "metadata": {
    "collapsed": false
   },
   "outputs": [
   ],
   "source": [
   ]
  },
  {
   "cell_type": "markdown",
   "metadata": {
    "collapsed": false
   },
   "source": [
    "<font color='#0F4C81'>\n",
    "<h2> \n",
    "    Q17\n",
    "    </h2>\n",
    "\n",
    "## Neural Latency (latency to first spike)\n",
    "You can measure neural latency in the control condition, and latency is expected to decrease with increasing contrast.\n",
    "\n",
    "Using a format similar to the CRFs, make a plot of latency to first spike (computed as the mean across repetitions) on the *y* axis, against contrast on the *x* axis, using one subplot per neuron (with both conditions in one subplot).\n",
    "</font>"
   ]
  },
  {
   "cell_type": "code",
   "execution_count": 0,
   "metadata": {
    "collapsed": false
   },
   "outputs": [
   ],
   "source": [
   ]
  },
  {
   "cell_type": "markdown",
   "metadata": {
    "collapsed": false
   },
   "source": [
    "# THE END"
   ]
  }
 ],
 "metadata": {
  "kernelspec": {
   "display_name": "Python 3 (system-wide)",
   "language": "python",
   "metadata": {
    "cocalc": {
     "description": "Python 3 programming language",
     "priority": 100,
     "url": "https://www.python.org/"
    }
   },
   "name": "python3"
  },
  "language_info": {
   "codemirror_mode": {
    "name": "ipython",
    "version": 3
   },
   "file_extension": ".py",
   "mimetype": "text/x-python",
   "name": "python",
   "nbconvert_exporter": "python",
   "pygments_lexer": "ipython3",
   "version": "3.6.9"
  }
 },
 "nbformat": 4,
 "nbformat_minor": 4
}